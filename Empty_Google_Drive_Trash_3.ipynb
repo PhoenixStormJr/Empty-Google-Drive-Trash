{
  "nbformat": 4,
  "nbformat_minor": 0,
  "metadata": {
    "colab": {
      "private_outputs": true,
      "provenance": [],
      "include_colab_link": true
    },
    "kernelspec": {
      "name": "python3",
      "display_name": "Python 3"
    },
    "language_info": {
      "name": "python"
    }
  },
  "cells": [
    {
      "cell_type": "markdown",
      "metadata": {
        "id": "view-in-github",
        "colab_type": "text"
      },
      "source": [
        "<a href=\"https://colab.research.google.com/github/PhoenixStormJr/Empty-Google-Drive-Trash/blob/main/Empty_Google_Drive_Trash_3.ipynb\" target=\"_parent\"><img src=\"https://colab.research.google.com/assets/colab-badge.svg\" alt=\"Open In Colab\"/></a>"
      ]
    },
    {
      "cell_type": "code",
      "source": [
        "def yninput(text):\n",
        "  while True:\n",
        "    answer = input(f\"{text} (y/n): \")\n",
        "    if answer.lower() == \"y\":\n",
        "      return answer\n",
        "    elif answer.lower() == \"n\":\n",
        "      return answer\n",
        "    else:\n",
        "      print(\"Invalid input. Please enter 'y' or 'n'.\")\n",
        "\n",
        "\n",
        "answer = yninput(\"Are you sure you want to delete EVERYTHING in the trash?\")\n",
        "if(answer == \"y\"):\n",
        "  print(\"Deleting everything in the trash...\")\n",
        "  from pydrive2.auth import GoogleAuth\n",
        "  from pydrive2.drive import GoogleDrive\n",
        "  from google.colab import auth\n",
        "  from oauth2client.client import GoogleCredentials\n",
        "  auth.authenticate_user()\n",
        "  gauth = GoogleAuth()\n",
        "  gauth.credentials = GoogleCredentials.get_application_default()\n",
        "  my_drive = GoogleDrive(gauth)\n",
        "  for a_file in my_drive.ListFile({'q': \"trashed = true\"}).GetList():\n",
        "    # print the name of the file being deleted.\n",
        "    print(f\"the file \\\"{a_file['title']}\\\", is about to get deleted permanently.\")\n",
        "    # delete the file permanently.\n",
        "    try:\n",
        "      a_file.Delete()\n",
        "    except:\n",
        "      print(f\"Failed to delete the file, {a_file['title']}.\")\n",
        "  print(\"Emptied the trash!\")"
      ],
      "metadata": {
        "id": "cKZR-cb9X5tS"
      },
      "execution_count": null,
      "outputs": []
    }
  ]
}